{
 "cells": [
  {
   "cell_type": "markdown",
   "id": "522a432b",
   "metadata": {},
   "source": [
    "# Linear Regression"
   ]
  },
  {
   "cell_type": "code",
   "execution_count": 129,
   "id": "01d19e5e",
   "metadata": {},
   "outputs": [],
   "source": [
    "import numpy as np\n",
    "import matplotlib.pyplot as plt"
   ]
  },
  {
   "cell_type": "code",
   "execution_count": 142,
   "id": "b8538824",
   "metadata": {},
   "outputs": [
    {
     "name": "stdout",
     "output_type": "stream",
     "text": [
      "y = [ 0.3617      0.40804869 -0.47291335  2.13498188  1.00552393  1.58747679\n",
      "  1.66737949  0.56672403  1.94968227  1.28204529 -0.69918182  2.3713506\n",
      "  3.00555381  1.83075971  2.5781942   0.86486741  1.19673578  3.70522137\n",
      "  2.62613176  1.8402422   1.07394436  1.60785086  2.27387126  2.33609567\n",
      "  4.28460485  2.07285999  3.22733672  3.5936874   1.62167199  2.28563028\n",
      "  1.50737581  2.0471392   2.94010018  2.27823282  3.0874302   2.81735921\n",
      "  3.40210673  3.61220211  4.2786933   3.71149246  3.57534965  2.86404448\n",
      "  3.54146619  4.80129506  3.65051353  6.40329437  5.72009044  6.63086407\n",
      "  3.46033673  5.75229696]\n",
      "x = [0.  0.1 0.2 0.3 0.4 0.5 0.6 0.7 0.8 0.9 1.  1.1 1.2 1.3 1.4 1.5 1.6 1.7\n",
      " 1.8 1.9 2.  2.1 2.2 2.3 2.4 2.5 2.6 2.7 2.8 2.9 3.  3.1 3.2 3.3 3.4 3.5\n",
      " 3.6 3.7 3.8 3.9 4.  4.1 4.2 4.3 4.4 4.5 4.6 4.7 4.8 4.9]\n"
     ]
    }
   ],
   "source": [
    "jumlah_data = 50\n",
    "\n",
    "y=np.array([i*0.1+np.random.randn() for i in range(jumlah_data)])\n",
    "x=np.array([i*0.1 for i in range(jumlah_data)])\n",
    "print(\"y = \" + str(y))\n",
    "print (\"x = \" + str(x))"
   ]
  },
  {
   "cell_type": "code",
   "execution_count": 143,
   "id": "c881762c",
   "metadata": {},
   "outputs": [
    {
     "data": {
      "image/png": "[encoded data removed]",
      "text/plain": [
       "<Figure size 432x288 with 1 Axes>"
      ]
     },
     "metadata": {
      "needs_background": "light"
     },
     "output_type": "display_data"
    }
   ],
   "source": [
    "plt.scatter(x,y)\n",
    "plt.show()"
   ]
  },
  {
   "cell_type": "code",
   "execution_count": 144,
   "id": "3821ebae",
   "metadata": {},
   "outputs": [],
   "source": [
    "#Fungsi Linear\n",
    "def linier(x,gradien):\n",
    "    y=gradien*x\n",
    "    return y"
   ]
  },
  {
   "cell_type": "code",
   "execution_count": 145,
   "id": "7b14a74f",
   "metadata": {},
   "outputs": [
    {
     "name": "stdout",
     "output_type": "stream",
     "text": [
      "[ 0 50]\n",
      "[ 0 10]\n"
     ]
    }
   ],
   "source": [
    "x_prediction=np.array([0,10])\n",
    "m_init=5\n",
    "y_prediction=linier(x_prediction,m_init)\n",
    "print(y_prediction)\n",
    "print(x_prediction)"
   ]
  },
  {
   "cell_type": "code",
   "execution_count": 146,
   "id": "43e504e5",
   "metadata": {
    "scrolled": true
   },
   "outputs": [
    {
     "data": {
      "image/png": "[encoded data removed]",
      "text/plain": [
       "<Figure size 432x288 with 1 Axes>"
      ]
     },
     "metadata": {
      "needs_background": "light"
     },
     "output_type": "display_data"
    }
   ],
   "source": [
    "plt.scatter(x,y)\n",
    "plt.plot(x_prediction,y_prediction,\"Red\")\n",
    "plt.axis([0,10,0,10])\n",
    "plt.show()"
   ]
  },
  {
   "cell_type": "code",
   "execution_count": 224,
   "id": "051b4cf5",
   "metadata": {},
   "outputs": [],
   "source": [
    "m_prediction=m_init\n",
    "m_list_prediction=[]\n",
    "x_list_prediction=[]\n",
    "y_list_prediction=[]\n",
    "\n",
    "#learning_rate\n",
    "l=0.1\n",
    "\n",
    "for i in range(jumlah_data):\n",
    "    y_prediction=linier(x[i],m_prediction)\n",
    "    y_actual=y[i]\n",
    "    error=y_actual-y_prediction\n",
    "    if x[i]>0:\n",
    "        delta_m=l*error/x[i]\n",
    "        m_prediction+=delta_m\n",
    "        m_list_prediction.append(m_prediction)\n",
    "        y_list_prediction.append(linier(np.array([0,10]),m_prediction))\n",
    "        x_list_prediction.append(np.array([0,10]))"
   ]
  },
  {
   "cell_type": "code",
   "execution_count": 225,
   "id": "1e99efa4",
   "metadata": {},
   "outputs": [
    {
     "name": "stdout",
     "output_type": "stream",
     "text": [
      "[4.908048693487137, 4.18078714987826, 4.474369062276607, 4.27831313754111, 4.167977181311145, 4.02907604424877, 3.7071290160366615, 3.580126398235231, 3.3645632346721954, 2.958188729634826, 2.8779471839184483, 2.8406152833735017, 2.697381425413273, 2.6118000112270856, 2.408277837207825, 2.2422460398885837, 2.2359756343337174, 2.1582742796788237, 2.039301704368905, 1.8890687519277178, 1.7767262035250482, 1.7024113675452248, 1.633739607842689, 1.6488908490031788, 1.5669161638620395, 1.534352882725684, 1.5140171279027368, 1.420532271837793, 1.357293881926944, 1.2718103541101922, 1.2106660670350988, 1.1814775909915218, 1.1323671901009529, 1.1099372415482616, 1.0794394948430412, 1.0659985101037346, 1.0570257431485197, 1.0639203610568941, 1.0526947982265367, 1.036809059763541, 1.002982897131357, 0.9870052308723661, 0.9999627323515664, 0.9829326757757999, 1.0269348385586499, 1.0485911469086913, 1.0848142463916899, 1.0484231702235065, 1.0609746686763346]\n"
     ]
    }
   ],
   "source": [
    "print(m_list_prediction)"
   ]
  },
  {
   "cell_type": "code",
   "execution_count": 226,
   "id": "43f38347",
   "metadata": {},
   "outputs": [
    {
     "name": "stdout",
     "output_type": "stream",
     "text": [
      "[array([ 0.        , 49.08048693]), array([ 0.       , 41.8078715]), array([ 0.        , 44.74369062]), array([ 0.        , 42.78313138]), array([ 0.        , 41.67977181]), array([ 0.        , 40.29076044]), array([ 0.        , 37.07129016]), array([ 0.        , 35.80126398]), array([ 0.        , 33.64563235]), array([ 0.       , 29.5818873]), array([ 0.        , 28.77947184]), array([ 0.        , 28.40615283]), array([ 0.        , 26.97381425]), array([ 0.        , 26.11800011]), array([ 0.        , 24.08277837]), array([ 0.       , 22.4224604]), array([ 0.        , 22.35975634]), array([ 0.       , 21.5827428]), array([ 0.        , 20.39301704]), array([ 0.        , 18.89068752]), array([ 0.        , 17.76726204]), array([ 0.        , 17.02411368]), array([ 0.        , 16.33739608]), array([ 0.        , 16.48890849]), array([ 0.        , 15.66916164]), array([ 0.        , 15.34352883]), array([ 0.        , 15.14017128]), array([ 0.        , 14.20532272]), array([ 0.        , 13.57293882]), array([ 0.        , 12.71810354]), array([ 0.        , 12.10666067]), array([ 0.        , 11.81477591]), array([ 0.       , 11.3236719]), array([ 0.        , 11.09937242]), array([ 0.        , 10.79439495]), array([ 0.       , 10.6599851]), array([ 0.        , 10.57025743]), array([ 0.        , 10.63920361]), array([ 0.        , 10.52694798]), array([ 0.       , 10.3680906]), array([ 0.        , 10.02982897]), array([0.        , 9.87005231]), array([0.        , 9.99962732]), array([0.        , 9.82932676]), array([ 0.        , 10.26934839]), array([ 0.        , 10.48591147]), array([ 0.        , 10.84814246]), array([ 0.       , 10.4842317]), array([ 0.        , 10.60974669])]\n"
     ]
    }
   ],
   "source": [
    "print(y_list_prediction)"
   ]
  },
  {
   "cell_type": "code",
   "execution_count": 227,
   "id": "6131741d",
   "metadata": {},
   "outputs": [
    {
     "name": "stdout",
     "output_type": "stream",
     "text": [
      "[array([ 0, 10]), array([ 0, 10]), array([ 0, 10]), array([ 0, 10]), array([ 0, 10]), array([ 0, 10]), array([ 0, 10]), array([ 0, 10]), array([ 0, 10]), array([ 0, 10]), array([ 0, 10]), array([ 0, 10]), array([ 0, 10]), array([ 0, 10]), array([ 0, 10]), array([ 0, 10]), array([ 0, 10]), array([ 0, 10]), array([ 0, 10]), array([ 0, 10]), array([ 0, 10]), array([ 0, 10]), array([ 0, 10]), array([ 0, 10]), array([ 0, 10]), array([ 0, 10]), array([ 0, 10]), array([ 0, 10]), array([ 0, 10]), array([ 0, 10]), array([ 0, 10]), array([ 0, 10]), array([ 0, 10]), array([ 0, 10]), array([ 0, 10]), array([ 0, 10]), array([ 0, 10]), array([ 0, 10]), array([ 0, 10]), array([ 0, 10]), array([ 0, 10]), array([ 0, 10]), array([ 0, 10]), array([ 0, 10]), array([ 0, 10]), array([ 0, 10]), array([ 0, 10]), array([ 0, 10]), array([ 0, 10])]\n"
     ]
    }
   ],
   "source": [
    "print(x_list_prediction)"
   ]
  },
  {
   "cell_type": "code",
   "execution_count": 230,
   "id": "3a7389b5",
   "metadata": {},
   "outputs": [
    {
     "data": {
      "image/png": "[encoded data removed]",
      "text/plain": [
       "<Figure size 432x288 with 1 Axes>"
      ]
     },
     "metadata": {
      "needs_background": "light"
     },
     "output_type": "display_data"
    }
   ],
   "source": [
    "fig=plt.figure(figsize=(4,4))\n",
    "line,=plt.plot([],[],\"Red\")\n",
    "frame_num=30\n",
    "def lines(frame_num):\n",
    "    x=[0,x_list_prediction[frame_num]]\n",
    "    y=[0,y_list_prediction[frame_num]]\n",
    "    line.set_data((x,y))  \n",
    "    return lines\n",
    "\n",
    "plt.scatter(x,y)\n",
    "plt.plot(x,y,\"Red\")\n",
    "plt.axis([0,6,0,6])\n",
    "plt.show()"
   ]
  }
 ],
 "metadata": {
  "kernelspec": {
   "display_name": "Python 3 (ipykernel)",
   "language": "python",
   "name": "python3"
  },
  "language_info": {
   "codemirror_mode": {
    "name": "ipython",
    "version": 3
   },
   "file_extension": ".py",
   "mimetype": "text/x-python",
   "name": "python",
   "nbconvert_exporter": "python",
   "pygments_lexer": "ipython3",
   "version": "3.9.7"
  }
 },
 "nbformat": 4,
 "nbformat_minor": 5
}
