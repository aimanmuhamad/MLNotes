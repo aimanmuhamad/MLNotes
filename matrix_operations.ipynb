{
  "nbformat": 4,
  "nbformat_minor": 0,
  "metadata": {
    "colab": {
      "name": "matrix_operations.ipynb",
      "provenance": [],
      "authorship_tag": "ABX9TyO+Tz0Kk9wMypRZp5BQjUwD"
    },
    "kernelspec": {
      "name": "python3",
      "display_name": "Python 3"
    },
    "language_info": {
      "name": "python"
    }
  },
  "cells": [
    {
      "cell_type": "code",
      "execution_count": 1,
      "metadata": {
        "id": "0PNrvntN4_P4"
      },
      "outputs": [],
      "source": [
        "import numpy as np"
      ]
    },
    {
      "cell_type": "code",
      "source": [
        "#Matrix Addition\n",
        "A=np.array([[2,3],[4,5]])\n",
        "\n",
        "B=np.array([[5,2],[1,2]])\n",
        "\n",
        "sum=A+B\n",
        "print(sum)"
      ],
      "metadata": {
        "colab": {
          "base_uri": "https://localhost:8080/"
        },
        "id": "0n5bWIRp5cwm",
        "outputId": "702cdd9b-0712-489c-e473-9bbff10840a8"
      },
      "execution_count": 11,
      "outputs": [
        {
          "output_type": "stream",
          "name": "stdout",
          "text": [
            "[[7 5]\n",
            " [5 7]]\n"
          ]
        }
      ]
    },
    {
      "cell_type": "code",
      "source": [
        "print(A)"
      ],
      "metadata": {
        "colab": {
          "base_uri": "https://localhost:8080/"
        },
        "id": "VLiNR4Q_5qZm",
        "outputId": "7377db86-c8c2-4794-9b23-2f9e8b00035d"
      },
      "execution_count": 7,
      "outputs": [
        {
          "output_type": "stream",
          "name": "stdout",
          "text": [
            "[[2 3]\n",
            " [4 5]]\n"
          ]
        }
      ]
    },
    {
      "cell_type": "code",
      "source": [
        "print(B)"
      ],
      "metadata": {
        "colab": {
          "base_uri": "https://localhost:8080/"
        },
        "id": "_OdWIHsH5roG",
        "outputId": "0a198924-64b6-486e-c2e7-5a64d2003065"
      },
      "execution_count": 8,
      "outputs": [
        {
          "output_type": "stream",
          "name": "stdout",
          "text": [
            "[[5 2]\n",
            " [1 2]]\n"
          ]
        }
      ]
    },
    {
      "cell_type": "code",
      "source": [
        "A.shape"
      ],
      "metadata": {
        "colab": {
          "base_uri": "https://localhost:8080/"
        },
        "id": "O6cdMibT5yuW",
        "outputId": "c17aa3bd-d866-4b6e-a856-c5a6103a83e3"
      },
      "execution_count": 9,
      "outputs": [
        {
          "output_type": "execute_result",
          "data": {
            "text/plain": [
              "(2, 2)"
            ]
          },
          "metadata": {},
          "execution_count": 9
        }
      ]
    },
    {
      "cell_type": "code",
      "source": [
        "B.shape"
      ],
      "metadata": {
        "colab": {
          "base_uri": "https://localhost:8080/"
        },
        "id": "YV3yW9pg50sG",
        "outputId": "aa9e0254-fee7-4e56-b035-e63412f72c79"
      },
      "execution_count": 10,
      "outputs": [
        {
          "output_type": "execute_result",
          "data": {
            "text/plain": [
              "(2, 2)"
            ]
          },
          "metadata": {},
          "execution_count": 10
        }
      ]
    },
    {
      "cell_type": "code",
      "source": [
        "matrix_1=np.random.randint(10,size=(3,3))\n",
        "matrix_2=np.random.randint(32,size=(3,3))"
      ],
      "metadata": {
        "id": "ypgCLJj952V-"
      },
      "execution_count": 12,
      "outputs": []
    },
    {
      "cell_type": "code",
      "source": [
        "sum=np.add(matrix_1,matrix_2)"
      ],
      "metadata": {
        "id": "hQ4OHzo77k2K"
      },
      "execution_count": 13,
      "outputs": []
    },
    {
      "cell_type": "code",
      "source": [
        "print(sum)"
      ],
      "metadata": {
        "colab": {
          "base_uri": "https://localhost:8080/"
        },
        "id": "maK4Xfkb7nZu",
        "outputId": "08ae75c6-861b-489a-84df-abf2f73d334d"
      },
      "execution_count": 14,
      "outputs": [
        {
          "output_type": "stream",
          "name": "stdout",
          "text": [
            "[[29 25 16]\n",
            " [24 19 27]\n",
            " [29 19 10]]\n"
          ]
        }
      ]
    },
    {
      "cell_type": "code",
      "source": [
        "#Matrix Substraction\n",
        "A=np.array([[2,3],[4,5]])\n",
        "\n",
        "B=np.array([[5,2],[1,2]])\n",
        "\n",
        "difference=A-B\n",
        "print(difference)"
      ],
      "metadata": {
        "colab": {
          "base_uri": "https://localhost:8080/"
        },
        "id": "Sroi_D9o7waX",
        "outputId": "79fb8aad-8768-4d55-853a-fa28a7908cf7"
      },
      "execution_count": 15,
      "outputs": [
        {
          "output_type": "stream",
          "name": "stdout",
          "text": [
            "[[-3  1]\n",
            " [ 3  3]]\n"
          ]
        }
      ]
    },
    {
      "cell_type": "code",
      "source": [
        "matrix_1=np.random.randint(10,size=(3,3))\n",
        "matrix_2=np.random.randint(20,size=(3,3))"
      ],
      "metadata": {
        "id": "DnlaMnZs77ZC"
      },
      "execution_count": 16,
      "outputs": []
    },
    {
      "cell_type": "code",
      "source": [
        "print(matrix_1)"
      ],
      "metadata": {
        "colab": {
          "base_uri": "https://localhost:8080/"
        },
        "id": "FQ3j9Zv87-rh",
        "outputId": "9f572e9e-23d6-4161-bb47-369407fcce18"
      },
      "execution_count": 17,
      "outputs": [
        {
          "output_type": "stream",
          "name": "stdout",
          "text": [
            "[[2 0 4]\n",
            " [5 8 0]\n",
            " [1 6 5]]\n"
          ]
        }
      ]
    },
    {
      "cell_type": "code",
      "source": [
        "print(matrix_2)"
      ],
      "metadata": {
        "colab": {
          "base_uri": "https://localhost:8080/"
        },
        "id": "GpejmLrL7_0v",
        "outputId": "deb2a55a-28ea-412f-b9fc-f3d53f10e051"
      },
      "execution_count": 18,
      "outputs": [
        {
          "output_type": "stream",
          "name": "stdout",
          "text": [
            "[[10 13 18]\n",
            " [14  5 17]\n",
            " [19  5 18]]\n"
          ]
        }
      ]
    },
    {
      "cell_type": "code",
      "source": [
        "diff=np.subtract(matrix_1,matrix_2)"
      ],
      "metadata": {
        "id": "H2l6saxF8BYF"
      },
      "execution_count": 19,
      "outputs": []
    },
    {
      "cell_type": "code",
      "source": [
        "print(diff)"
      ],
      "metadata": {
        "colab": {
          "base_uri": "https://localhost:8080/"
        },
        "id": "eToAXqHv8Fi9",
        "outputId": "3d610c60-a894-4255-a28a-0c4700ece400"
      },
      "execution_count": 20,
      "outputs": [
        {
          "output_type": "stream",
          "name": "stdout",
          "text": [
            "[[ -8 -13 -14]\n",
            " [ -9   3 -17]\n",
            " [-18   1 -13]]\n"
          ]
        }
      ]
    },
    {
      "cell_type": "code",
      "source": [
        "#multiplying matrix with scalar\n",
        "\n",
        "a=5\n",
        "y=np.random.randint(10,size=(3,3))\n",
        "\n",
        "print(y)"
      ],
      "metadata": {
        "colab": {
          "base_uri": "https://localhost:8080/"
        },
        "id": "Xp1XnPZV8Jcr",
        "outputId": "b05f70af-f525-4b24-f650-faeb0a2b762f"
      },
      "execution_count": 21,
      "outputs": [
        {
          "output_type": "stream",
          "name": "stdout",
          "text": [
            "[[7 4 4]\n",
            " [0 8 7]\n",
            " [2 6 3]]\n"
          ]
        }
      ]
    },
    {
      "cell_type": "code",
      "source": [
        "product=np.multiply(a,y)\n",
        "print(product)"
      ],
      "metadata": {
        "colab": {
          "base_uri": "https://localhost:8080/"
        },
        "id": "zih4nLVQ8TlT",
        "outputId": "2cb2110f-f30c-4c32-f4af-b816b244b246"
      },
      "execution_count": 23,
      "outputs": [
        {
          "output_type": "stream",
          "name": "stdout",
          "text": [
            "[[35 20 20]\n",
            " [ 0 40 35]\n",
            " [10 30 15]]\n"
          ]
        }
      ]
    },
    {
      "cell_type": "code",
      "source": [
        "x=np.random.randint(20,size=(3,3))\n",
        "y=np.random.randint(10,size=(3,3))"
      ],
      "metadata": {
        "id": "XAObwkrG8a7-"
      },
      "execution_count": 24,
      "outputs": []
    },
    {
      "cell_type": "code",
      "source": [
        "print(x)"
      ],
      "metadata": {
        "colab": {
          "base_uri": "https://localhost:8080/"
        },
        "id": "kkjh6UDU8lbK",
        "outputId": "6b099e38-fd7e-4ee2-f537-ee6361951533"
      },
      "execution_count": 25,
      "outputs": [
        {
          "output_type": "stream",
          "name": "stdout",
          "text": [
            "[[ 5  7 18]\n",
            " [13 17 10]\n",
            " [10  5 13]]\n"
          ]
        }
      ]
    },
    {
      "cell_type": "code",
      "source": [
        "print(y)"
      ],
      "metadata": {
        "colab": {
          "base_uri": "https://localhost:8080/"
        },
        "id": "0yr659Cr8mR1",
        "outputId": "329b0754-8946-48c8-ca36-0966594aa698"
      },
      "execution_count": 26,
      "outputs": [
        {
          "output_type": "stream",
          "name": "stdout",
          "text": [
            "[[2 3 7]\n",
            " [8 5 0]\n",
            " [2 7 7]]\n"
          ]
        }
      ]
    },
    {
      "cell_type": "code",
      "source": [
        "product=np.dot(x,y)\n",
        "print(product)"
      ],
      "metadata": {
        "colab": {
          "base_uri": "https://localhost:8080/"
        },
        "id": "dntzOk_s8jS_",
        "outputId": "5e295ddf-c7ca-488a-c619-125c71f07c54"
      },
      "execution_count": 28,
      "outputs": [
        {
          "output_type": "stream",
          "name": "stdout",
          "text": [
            "[[102 176 161]\n",
            " [182 194 161]\n",
            " [ 86 146 161]]\n"
          ]
        }
      ]
    },
    {
      "cell_type": "code",
      "source": [
        "product.shape"
      ],
      "metadata": {
        "colab": {
          "base_uri": "https://localhost:8080/"
        },
        "id": "g1fj1JDv8uxV",
        "outputId": "cf413134-4361-4bab-b9dd-365634356714"
      },
      "execution_count": 29,
      "outputs": [
        {
          "output_type": "execute_result",
          "data": {
            "text/plain": [
              "(3, 3)"
            ]
          },
          "metadata": {},
          "execution_count": 29
        }
      ]
    }
  ]
}