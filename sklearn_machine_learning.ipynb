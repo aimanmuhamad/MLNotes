{
  "nbformat": 4,
  "nbformat_minor": 0,
  "metadata": {
    "colab": {
      "name": "sklearn_machine_learning.ipynb",
      "provenance": [],
      "authorship_tag": "ABX9TyP2qVg141ddwh9JfhukM01y"
    },
    "kernelspec": {
      "name": "python3",
      "display_name": "Python 3"
    },
    "language_info": {
      "name": "python"
    }
  },
  "cells": [
    {
      "cell_type": "code",
      "execution_count": 1,
      "metadata": {
        "id": "s94PujZZsbM7"
      },
      "outputs": [],
      "source": [
        "from sklearn.datasets import load_iris\n",
        "\n",
        "iris=load_iris()\n",
        "\n",
        "X=iris.data\n",
        "y=iris.target"
      ]
    },
    {
      "cell_type": "code",
      "source": [
        "#training and testing dataset\n",
        "from sklearn.model_selection import train_test_split\n",
        "\n",
        "X_train,X_test,y_train,y_test=train_test_split(X,y,test_size=0.4,random_state=1)"
      ],
      "metadata": {
        "id": "MCHuerJLtOtO"
      },
      "execution_count": 7,
      "outputs": []
    },
    {
      "cell_type": "code",
      "source": [
        "#Training Model\n",
        "from sklearn.neighbors import KNeighborsClassifier\n",
        "\n",
        "model.KNeighborsClassifier(n_neighbors=3)\n",
        "model.fit(X_train,y_train)"
      ],
      "metadata": {
        "id": "Rhxmk-B7vuvo"
      },
      "execution_count": null,
      "outputs": []
    },
    {
      "cell_type": "code",
      "source": [
        "from sklearn.metrics import accuracy_score\n",
        "\n",
        "y_pred=model.predict(X_test)\n",
        "acc=accuracy_score(y_test,y_pred)\n",
        "\n",
        "print(f'Accuracy: {acc}')"
      ],
      "metadata": {
        "id": "_QH0s2NEvwsI"
      },
      "execution_count": null,
      "outputs": []
    },
    {
      "cell_type": "code",
      "source": [
        "data_new=[[5,5,3,2],\n",
        "          [2,3,4,5]]\n",
        "\n",
        "preds=model.predict(data_new)\n",
        "preds"
      ],
      "metadata": {
        "id": "8PmU3_n7vy5D"
      },
      "execution_count": null,
      "outputs": []
    }
  ]
}