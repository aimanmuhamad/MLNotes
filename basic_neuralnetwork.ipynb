{
  "nbformat": 4,
  "nbformat_minor": 0,
  "metadata": {
    "colab": {
      "name": "Untitled6.ipynb",
      "provenance": []
    },
    "kernelspec": {
      "name": "python3",
      "display_name": "Python 3"
    },
    "language_info": {
      "name": "python"
    }
  },
  "cells": [
    {
      "cell_type": "code",
      "execution_count": 29,
      "metadata": {
        "id": "maHAJlNZ3L5h"
      },
      "outputs": [],
      "source": [
        "from sklearn.utils import shuffle"
      ]
    },
    {
      "cell_type": "code",
      "source": [
        "import numpy as np\n",
        "import pandas as pd\n",
        "import matplotlib.pyplot as plt"
      ],
      "metadata": {
        "id": "GchZJaYj3RbG"
      },
      "execution_count": 5,
      "outputs": []
    },
    {
      "cell_type": "code",
      "source": [
        "#Case 2 person with different height and weight as input\n",
        "#Person 1\n",
        "x1=np.array([180+10*np.random.randn() for i in range(1,100)])\n",
        "x2=np.array([50+10*np.random.randn() for i in range(1,100)])"
      ],
      "metadata": {
        "id": "RCzZ3Mis30mK"
      },
      "execution_count": 6,
      "outputs": []
    },
    {
      "cell_type": "code",
      "source": [
        "x1"
      ],
      "metadata": {
        "colab": {
          "base_uri": "https://localhost:8080/"
        },
        "id": "GuCVrmXa4afe",
        "outputId": "124f4db0-e223-446c-af63-9f96b10e24d1"
      },
      "execution_count": 7,
      "outputs": [
        {
          "output_type": "execute_result",
          "data": {
            "text/plain": [
              "array([175.22877807, 170.50530862, 174.08506136, 180.72107892,\n",
              "       175.29775339, 172.81883343, 171.32423459, 206.94502258,\n",
              "       179.06020503, 195.12416584, 177.31045346, 184.27415014,\n",
              "       183.73405194, 184.62246101, 176.19442822, 185.17683512,\n",
              "       179.08456855, 152.08672915, 179.95333823, 189.4537419 ,\n",
              "       164.22554608, 166.82259807, 187.07737407, 186.51107066,\n",
              "       188.5295333 , 178.31165147, 175.25472235, 160.99739234,\n",
              "       175.07236089, 173.37762145, 179.66888609, 188.74233659,\n",
              "       197.36284402, 171.19282655, 194.00425369, 172.09143787,\n",
              "       178.3673548 , 188.63429225, 171.59927461, 181.10390387,\n",
              "       187.60124253, 194.89796075, 189.18065098, 176.79782461,\n",
              "       181.21058763, 173.90881971, 192.68510377, 193.91154224,\n",
              "       173.89960732, 193.1415579 , 157.25759732, 175.90904887,\n",
              "       193.07213114, 185.5281432 , 185.24960809, 173.18938633,\n",
              "       179.41555578, 174.10626714, 203.85457774, 188.48518618,\n",
              "       187.83196622, 186.37258944, 193.32970037, 178.38615324,\n",
              "       180.56209061, 188.10516357, 173.96162756, 170.18558121,\n",
              "       183.90045894, 191.11890694, 179.24890645, 184.19814686,\n",
              "       204.66252685, 165.23781916, 186.08209722, 173.96548283,\n",
              "       187.07767796, 180.49746306, 181.65092153, 175.97890483,\n",
              "       180.27937021, 181.84253592, 178.13233395, 178.92082001,\n",
              "       181.87653608, 162.57275155, 178.90390981, 201.35815998,\n",
              "       153.82466544, 172.00073146, 170.13114268, 187.1353598 ,\n",
              "       182.01146054, 207.57702535, 175.27924452, 177.10107554,\n",
              "       186.77110838, 196.09263425, 172.71900197])"
            ]
          },
          "metadata": {},
          "execution_count": 7
        }
      ]
    },
    {
      "cell_type": "code",
      "source": [
        "x2"
      ],
      "metadata": {
        "colab": {
          "base_uri": "https://localhost:8080/"
        },
        "id": "k-NeDcjS4dUi",
        "outputId": "211d8851-0af8-4875-c852-f69ee2a03669"
      },
      "execution_count": 8,
      "outputs": [
        {
          "output_type": "execute_result",
          "data": {
            "text/plain": [
              "array([49.74198065, 61.89979085, 45.15604342, 33.47889726, 49.46129774,\n",
              "       38.52650128, 40.82391847, 59.68092855, 39.6688665 , 29.94516569,\n",
              "       42.53807158, 55.42427497, 50.57425114, 39.38176787, 55.34994857,\n",
              "       57.41979722, 44.81010396, 41.32472007, 64.99582769, 43.29203784,\n",
              "       46.65706222, 55.32625076, 47.00730904, 60.70614667, 58.73698737,\n",
              "       45.04519172, 56.41084715, 61.37867188, 51.85483895, 58.83342409,\n",
              "       38.570035  , 55.84741988, 49.35067739, 67.66721335, 38.08967154,\n",
              "       45.38032911, 53.08477723, 61.73885218, 57.95868614, 52.35644379,\n",
              "       56.48258267, 43.69442574, 41.7754577 , 74.47242561, 46.53516344,\n",
              "       55.33258386, 48.17706299, 63.2282959 , 48.73217806, 50.18559392,\n",
              "       52.22818828, 51.70096558, 37.752096  , 50.15996851, 31.10143107,\n",
              "       50.78342768, 49.0469066 , 40.24992983, 48.17544387, 47.36470222,\n",
              "       45.1735878 , 47.6810535 , 48.1089686 , 37.94135654, 58.88162582,\n",
              "       29.93406878, 73.22097057, 37.98807048, 39.39927882, 51.35913756,\n",
              "       44.31867543, 51.03789143, 48.82888407, 53.29937808, 69.39203335,\n",
              "       41.03893934, 53.26867649, 45.61122559, 58.87629553, 42.09677053,\n",
              "       51.01173866, 58.78149121, 48.3385949 , 52.84463488, 59.94729574,\n",
              "       48.25814071, 54.11128174, 56.25783876, 34.4903235 , 41.1479927 ,\n",
              "       46.27969741, 41.84478308, 47.98087433, 44.40163918, 43.0914036 ,\n",
              "       47.43882099, 55.44456393, 45.26891399, 44.40562349])"
            ]
          },
          "metadata": {},
          "execution_count": 8
        }
      ]
    },
    {
      "cell_type": "code",
      "source": [
        "y1=np.array([1 for i in range(1,100)])"
      ],
      "metadata": {
        "id": "9sbyWk9P6wMn"
      },
      "execution_count": 9,
      "outputs": []
    },
    {
      "cell_type": "code",
      "source": [
        "y2=np.array([0 for i in range(1,100)])"
      ],
      "metadata": {
        "id": "OiNEjr2L64E3"
      },
      "execution_count": 11,
      "outputs": []
    },
    {
      "cell_type": "code",
      "source": [
        "label=[\"person_1\" for i in range(1,100)]"
      ],
      "metadata": {
        "id": "_z55FUuf7RRE"
      },
      "execution_count": 12,
      "outputs": []
    },
    {
      "cell_type": "code",
      "source": [
        "#compilation data\n",
        "data_person1={\n",
        "    'x1':x1,\n",
        "    'x2':x2,\n",
        "    'y1':y1,\n",
        "    'y2':y2,\n",
        "    'label':label,\n",
        "}"
      ],
      "metadata": {
        "id": "dnmPcpjU82zB"
      },
      "execution_count": 14,
      "outputs": []
    },
    {
      "cell_type": "code",
      "source": [
        "#Dataframe\n",
        "data_frame_1=pd.DataFrame(data=data_person1)"
      ],
      "metadata": {
        "id": "C6imQnLD9TYx"
      },
      "execution_count": 15,
      "outputs": []
    },
    {
      "cell_type": "code",
      "source": [
        "data_frame_1.head()"
      ],
      "metadata": {
        "colab": {
          "base_uri": "https://localhost:8080/",
          "height": 206
        },
        "id": "J5MU8IZM9YRW",
        "outputId": "4ec94cdb-c78e-4423-fb9a-c2b7222b6d75"
      },
      "execution_count": 16,
      "outputs": [
        {
          "output_type": "execute_result",
          "data": {
            "text/plain": [
              "           x1         x2  y1  y2     label\n",
              "0  175.228778  49.741981   1   0  person_1\n",
              "1  170.505309  61.899791   1   0  person_1\n",
              "2  174.085061  45.156043   1   0  person_1\n",
              "3  180.721079  33.478897   1   0  person_1\n",
              "4  175.297753  49.461298   1   0  person_1"
            ],
            "text/html": [
              "\n",
              "  <div id=\"df-14c9ce48-b59e-4b93-a2ca-1116dcbc68ec\">\n",
              "    <div class=\"colab-df-container\">\n",
              "      <div>\n",
              "<style scoped>\n",
              "    .dataframe tbody tr th:only-of-type {\n",
              "        vertical-align: middle;\n",
              "    }\n",
              "\n",
              "    .dataframe tbody tr th {\n",
              "        vertical-align: top;\n",
              "    }\n",
              "\n",
              "    .dataframe thead th {\n",
              "        text-align: right;\n",
              "    }\n",
              "</style>\n",
              "<table border=\"1\" class=\"dataframe\">\n",
              "  <thead>\n",
              "    <tr style=\"text-align: right;\">\n",
              "      <th></th>\n",
              "      <th>x1</th>\n",
              "      <th>x2</th>\n",
              "      <th>y1</th>\n",
              "      <th>y2</th>\n",
              "      <th>label</th>\n",
              "    </tr>\n",
              "  </thead>\n",
              "  <tbody>\n",
              "    <tr>\n",
              "      <th>0</th>\n",
              "      <td>175.228778</td>\n",
              "      <td>49.741981</td>\n",
              "      <td>1</td>\n",
              "      <td>0</td>\n",
              "      <td>person_1</td>\n",
              "    </tr>\n",
              "    <tr>\n",
              "      <th>1</th>\n",
              "      <td>170.505309</td>\n",
              "      <td>61.899791</td>\n",
              "      <td>1</td>\n",
              "      <td>0</td>\n",
              "      <td>person_1</td>\n",
              "    </tr>\n",
              "    <tr>\n",
              "      <th>2</th>\n",
              "      <td>174.085061</td>\n",
              "      <td>45.156043</td>\n",
              "      <td>1</td>\n",
              "      <td>0</td>\n",
              "      <td>person_1</td>\n",
              "    </tr>\n",
              "    <tr>\n",
              "      <th>3</th>\n",
              "      <td>180.721079</td>\n",
              "      <td>33.478897</td>\n",
              "      <td>1</td>\n",
              "      <td>0</td>\n",
              "      <td>person_1</td>\n",
              "    </tr>\n",
              "    <tr>\n",
              "      <th>4</th>\n",
              "      <td>175.297753</td>\n",
              "      <td>49.461298</td>\n",
              "      <td>1</td>\n",
              "      <td>0</td>\n",
              "      <td>person_1</td>\n",
              "    </tr>\n",
              "  </tbody>\n",
              "</table>\n",
              "</div>\n",
              "      <button class=\"colab-df-convert\" onclick=\"convertToInteractive('df-14c9ce48-b59e-4b93-a2ca-1116dcbc68ec')\"\n",
              "              title=\"Convert this dataframe to an interactive table.\"\n",
              "              style=\"display:none;\">\n",
              "        \n",
              "  <svg xmlns=\"http://www.w3.org/2000/svg\" height=\"24px\"viewBox=\"0 0 24 24\"\n",
              "       width=\"24px\">\n",
              "    <path d=\"M0 0h24v24H0V0z\" fill=\"none\"/>\n",
              "    <path d=\"M18.56 5.44l.94 2.06.94-2.06 2.06-.94-2.06-.94-.94-2.06-.94 2.06-2.06.94zm-11 1L8.5 8.5l.94-2.06 2.06-.94-2.06-.94L8.5 2.5l-.94 2.06-2.06.94zm10 10l.94 2.06.94-2.06 2.06-.94-2.06-.94-.94-2.06-.94 2.06-2.06.94z\"/><path d=\"M17.41 7.96l-1.37-1.37c-.4-.4-.92-.59-1.43-.59-.52 0-1.04.2-1.43.59L10.3 9.45l-7.72 7.72c-.78.78-.78 2.05 0 2.83L4 21.41c.39.39.9.59 1.41.59.51 0 1.02-.2 1.41-.59l7.78-7.78 2.81-2.81c.8-.78.8-2.07 0-2.86zM5.41 20L4 18.59l7.72-7.72 1.47 1.35L5.41 20z\"/>\n",
              "  </svg>\n",
              "      </button>\n",
              "      \n",
              "  <style>\n",
              "    .colab-df-container {\n",
              "      display:flex;\n",
              "      flex-wrap:wrap;\n",
              "      gap: 12px;\n",
              "    }\n",
              "\n",
              "    .colab-df-convert {\n",
              "      background-color: #E8F0FE;\n",
              "      border: none;\n",
              "      border-radius: 50%;\n",
              "      cursor: pointer;\n",
              "      display: none;\n",
              "      fill: #1967D2;\n",
              "      height: 32px;\n",
              "      padding: 0 0 0 0;\n",
              "      width: 32px;\n",
              "    }\n",
              "\n",
              "    .colab-df-convert:hover {\n",
              "      background-color: #E2EBFA;\n",
              "      box-shadow: 0px 1px 2px rgba(60, 64, 67, 0.3), 0px 1px 3px 1px rgba(60, 64, 67, 0.15);\n",
              "      fill: #174EA6;\n",
              "    }\n",
              "\n",
              "    [theme=dark] .colab-df-convert {\n",
              "      background-color: #3B4455;\n",
              "      fill: #D2E3FC;\n",
              "    }\n",
              "\n",
              "    [theme=dark] .colab-df-convert:hover {\n",
              "      background-color: #434B5C;\n",
              "      box-shadow: 0px 1px 3px 1px rgba(0, 0, 0, 0.15);\n",
              "      filter: drop-shadow(0px 1px 2px rgba(0, 0, 0, 0.3));\n",
              "      fill: #FFFFFF;\n",
              "    }\n",
              "  </style>\n",
              "\n",
              "      <script>\n",
              "        const buttonEl =\n",
              "          document.querySelector('#df-14c9ce48-b59e-4b93-a2ca-1116dcbc68ec button.colab-df-convert');\n",
              "        buttonEl.style.display =\n",
              "          google.colab.kernel.accessAllowed ? 'block' : 'none';\n",
              "\n",
              "        async function convertToInteractive(key) {\n",
              "          const element = document.querySelector('#df-14c9ce48-b59e-4b93-a2ca-1116dcbc68ec');\n",
              "          const dataTable =\n",
              "            await google.colab.kernel.invokeFunction('convertToInteractive',\n",
              "                                                     [key], {});\n",
              "          if (!dataTable) return;\n",
              "\n",
              "          const docLinkHtml = 'Like what you see? Visit the ' +\n",
              "            '<a target=\"_blank\" href=https://colab.research.google.com/notebooks/data_table.ipynb>data table notebook</a>'\n",
              "            + ' to learn more about interactive tables.';\n",
              "          element.innerHTML = '';\n",
              "          dataTable['output_type'] = 'display_data';\n",
              "          await google.colab.output.renderOutput(dataTable, element);\n",
              "          const docLink = document.createElement('div');\n",
              "          docLink.innerHTML = docLinkHtml;\n",
              "          element.appendChild(docLink);\n",
              "        }\n",
              "      </script>\n",
              "    </div>\n",
              "  </div>\n",
              "  "
            ]
          },
          "metadata": {},
          "execution_count": 16
        }
      ]
    },
    {
      "cell_type": "code",
      "source": [
        "#Person 2\n",
        "x1=np.array([100+10*np.random.randn() for i in range(1,100)])\n",
        "x2=np.array([80+10*np.random.randn() for i in range(1,100)])\n",
        "y1=np.array([0 for i in range(1,100)])\n",
        "y2=np.array([1 for i in range(1,100)])"
      ],
      "metadata": {
        "id": "_-z7kEpj9xCQ"
      },
      "execution_count": 17,
      "outputs": []
    },
    {
      "cell_type": "code",
      "source": [
        "x1"
      ],
      "metadata": {
        "colab": {
          "base_uri": "https://localhost:8080/"
        },
        "id": "tvSn5DQ_96FL",
        "outputId": "ed697d65-0284-47e7-b8e4-dc17ac7a8904"
      },
      "execution_count": 18,
      "outputs": [
        {
          "output_type": "execute_result",
          "data": {
            "text/plain": [
              "array([107.74197074, 105.36244244, 114.7542894 , 102.95200616,\n",
              "        88.08688295,  96.7858685 , 119.57080016,  96.15398241,\n",
              "       122.53906341, 100.78425217, 106.46332793,  97.3459062 ,\n",
              "       104.5242992 , 104.00342008, 102.95990404, 112.51020369,\n",
              "        97.03113267,  94.96788031,  83.84989921,  97.3136544 ,\n",
              "       101.45744508,  83.41138414,  98.04565006,  99.58642258,\n",
              "       102.29545496,  99.03547477, 116.62425944, 104.7535693 ,\n",
              "        98.80326577,  75.1329047 ,  90.60396506, 110.9196418 ,\n",
              "       105.27930391, 103.11383118, 105.21411869, 108.32654068,\n",
              "       110.55102844, 109.73235679, 100.41956095,  88.984092  ,\n",
              "        95.20598662,  98.76548896,  78.71223553, 114.44651564,\n",
              "       111.63168818, 104.8151061 ,  99.173495  ,  85.30762746,\n",
              "       103.5078561 , 103.1972534 , 102.78310241, 108.34538156,\n",
              "       103.41209901, 108.2365084 ,  90.47990214, 117.90879332,\n",
              "       104.44480448,  93.10209242, 107.00405945, 110.50418773,\n",
              "        98.19256445,  79.37699558,  97.42904552,  94.44730393,\n",
              "        95.69542659, 121.5353936 ,  92.09657626, 102.6320016 ,\n",
              "       103.70154952, 113.79699115,  84.09406744, 103.98660398,\n",
              "        90.37264082, 109.85668532,  92.12279961, 114.33729252,\n",
              "       102.38505634, 100.81904312, 101.18956047, 104.65716576,\n",
              "        80.39151714, 104.34147953,  95.27860717, 111.88635358,\n",
              "        99.74011862,  88.97309187, 111.41888607, 116.88522042,\n",
              "       107.50451042,  97.59742852, 115.47459374,  95.5337709 ,\n",
              "       107.98114824, 111.58416935, 101.90364466, 107.74535803,\n",
              "        89.7349585 , 100.97591131, 102.13445316])"
            ]
          },
          "metadata": {},
          "execution_count": 18
        }
      ]
    },
    {
      "cell_type": "code",
      "source": [
        "x2"
      ],
      "metadata": {
        "colab": {
          "base_uri": "https://localhost:8080/"
        },
        "id": "cE4tI0G3979R",
        "outputId": "d1c81432-dfe5-416d-bf9f-f93aacb6f159"
      },
      "execution_count": 19,
      "outputs": [
        {
          "output_type": "execute_result",
          "data": {
            "text/plain": [
              "array([68.52321677, 82.69790018, 85.53328622, 76.52187025, 70.6343332 ,\n",
              "       55.45264904, 82.17763176, 79.49331154, 91.39412372, 81.89948091,\n",
              "       73.76169513, 70.44964164, 76.62884421, 79.1647529 , 66.12136281,\n",
              "       90.78488179, 62.22201513, 79.35132131, 78.62719897, 75.69868153,\n",
              "       75.97452557, 91.72495496, 86.73619132, 74.82047427, 74.97661708,\n",
              "       61.30893169, 76.59068734, 85.34450424, 64.80677895, 68.04463759,\n",
              "       80.28579468, 74.59405338, 89.66194025, 85.62016722, 71.15397281,\n",
              "       87.61515122, 66.82663708, 82.91023884, 81.48973822, 67.40110638,\n",
              "       80.49481702, 89.9821185 , 98.30739874, 91.2679479 , 65.59519075,\n",
              "       72.87474877, 86.75585161, 79.99968964, 89.552794  , 72.46100935,\n",
              "       69.12724418, 70.59714706, 91.86869287, 70.45804049, 85.17590241,\n",
              "       82.32675966, 88.80568085, 87.3226707 , 91.85292105, 90.75041016,\n",
              "       77.47021292, 83.83749736, 79.59149216, 82.50981872, 95.66406972,\n",
              "       74.39898472, 83.78231782, 74.37299804, 73.78117314, 78.33139238,\n",
              "       65.97818065, 66.43335993, 69.58437118, 81.02060743, 66.90354677,\n",
              "       74.21703842, 90.21673497, 74.90211829, 65.641016  , 75.73369978,\n",
              "       81.71751505, 65.60536634, 62.27220625, 75.10329751, 92.50314639,\n",
              "       90.79828514, 66.13285017, 78.57070991, 73.86991537, 83.71332452,\n",
              "       67.42946503, 76.20909477, 72.04150758, 84.7708366 , 79.52214384,\n",
              "       74.46347231, 82.50850648, 82.29489284, 98.56650614])"
            ]
          },
          "metadata": {},
          "execution_count": 19
        }
      ]
    },
    {
      "cell_type": "code",
      "source": [
        "y1"
      ],
      "metadata": {
        "colab": {
          "base_uri": "https://localhost:8080/"
        },
        "id": "5iZJRge_99iW",
        "outputId": "56251ce3-fb25-49f1-d959-acbd26c7cb14"
      },
      "execution_count": 20,
      "outputs": [
        {
          "output_type": "execute_result",
          "data": {
            "text/plain": [
              "array([0, 0, 0, 0, 0, 0, 0, 0, 0, 0, 0, 0, 0, 0, 0, 0, 0, 0, 0, 0, 0, 0,\n",
              "       0, 0, 0, 0, 0, 0, 0, 0, 0, 0, 0, 0, 0, 0, 0, 0, 0, 0, 0, 0, 0, 0,\n",
              "       0, 0, 0, 0, 0, 0, 0, 0, 0, 0, 0, 0, 0, 0, 0, 0, 0, 0, 0, 0, 0, 0,\n",
              "       0, 0, 0, 0, 0, 0, 0, 0, 0, 0, 0, 0, 0, 0, 0, 0, 0, 0, 0, 0, 0, 0,\n",
              "       0, 0, 0, 0, 0, 0, 0, 0, 0, 0, 0])"
            ]
          },
          "metadata": {},
          "execution_count": 20
        }
      ]
    },
    {
      "cell_type": "code",
      "source": [
        "y2"
      ],
      "metadata": {
        "colab": {
          "base_uri": "https://localhost:8080/"
        },
        "id": "uvaoJcf4-AEH",
        "outputId": "eb9d851d-9480-49a6-a2eb-c976832a9c02"
      },
      "execution_count": 21,
      "outputs": [
        {
          "output_type": "execute_result",
          "data": {
            "text/plain": [
              "array([1, 1, 1, 1, 1, 1, 1, 1, 1, 1, 1, 1, 1, 1, 1, 1, 1, 1, 1, 1, 1, 1,\n",
              "       1, 1, 1, 1, 1, 1, 1, 1, 1, 1, 1, 1, 1, 1, 1, 1, 1, 1, 1, 1, 1, 1,\n",
              "       1, 1, 1, 1, 1, 1, 1, 1, 1, 1, 1, 1, 1, 1, 1, 1, 1, 1, 1, 1, 1, 1,\n",
              "       1, 1, 1, 1, 1, 1, 1, 1, 1, 1, 1, 1, 1, 1, 1, 1, 1, 1, 1, 1, 1, 1,\n",
              "       1, 1, 1, 1, 1, 1, 1, 1, 1, 1, 1])"
            ]
          },
          "metadata": {},
          "execution_count": 21
        }
      ]
    },
    {
      "cell_type": "code",
      "source": [
        "label2=[\"person_2\" for i in range(1,100)]"
      ],
      "metadata": {
        "id": "hATDpJJh-E9Q"
      },
      "execution_count": 22,
      "outputs": []
    },
    {
      "cell_type": "code",
      "source": [
        "#compilation data\n",
        "data_person2={\n",
        "    'x1':x1,\n",
        "    'x2':x2,\n",
        "    'y1':y1,\n",
        "    'y2':y2,\n",
        "    'label':label2,\n",
        "}"
      ],
      "metadata": {
        "id": "n1a-jT7H-Ojh"
      },
      "execution_count": 23,
      "outputs": []
    },
    {
      "cell_type": "code",
      "source": [
        "#Dataframe\n",
        "data_frame_2=pd.DataFrame(data=data_person2)"
      ],
      "metadata": {
        "id": "1c4I636v-Stu"
      },
      "execution_count": 24,
      "outputs": []
    },
    {
      "cell_type": "code",
      "source": [
        "data_frame_2.head()"
      ],
      "metadata": {
        "colab": {
          "base_uri": "https://localhost:8080/",
          "height": 206
        },
        "id": "hIxh14AV-VDd",
        "outputId": "07b7f841-3106-4d0c-a5e5-e7205d8c4ef4"
      },
      "execution_count": 25,
      "outputs": [
        {
          "output_type": "execute_result",
          "data": {
            "text/plain": [
              "           x1         x2  y1  y2     label\n",
              "0  107.741971  68.523217   0   1  person_2\n",
              "1  105.362442  82.697900   0   1  person_2\n",
              "2  114.754289  85.533286   0   1  person_2\n",
              "3  102.952006  76.521870   0   1  person_2\n",
              "4   88.086883  70.634333   0   1  person_2"
            ],
            "text/html": [
              "\n",
              "  <div id=\"df-e823fc32-723e-489a-b6b0-90529f37cd66\">\n",
              "    <div class=\"colab-df-container\">\n",
              "      <div>\n",
              "<style scoped>\n",
              "    .dataframe tbody tr th:only-of-type {\n",
              "        vertical-align: middle;\n",
              "    }\n",
              "\n",
              "    .dataframe tbody tr th {\n",
              "        vertical-align: top;\n",
              "    }\n",
              "\n",
              "    .dataframe thead th {\n",
              "        text-align: right;\n",
              "    }\n",
              "</style>\n",
              "<table border=\"1\" class=\"dataframe\">\n",
              "  <thead>\n",
              "    <tr style=\"text-align: right;\">\n",
              "      <th></th>\n",
              "      <th>x1</th>\n",
              "      <th>x2</th>\n",
              "      <th>y1</th>\n",
              "      <th>y2</th>\n",
              "      <th>label</th>\n",
              "    </tr>\n",
              "  </thead>\n",
              "  <tbody>\n",
              "    <tr>\n",
              "      <th>0</th>\n",
              "      <td>107.741971</td>\n",
              "      <td>68.523217</td>\n",
              "      <td>0</td>\n",
              "      <td>1</td>\n",
              "      <td>person_2</td>\n",
              "    </tr>\n",
              "    <tr>\n",
              "      <th>1</th>\n",
              "      <td>105.362442</td>\n",
              "      <td>82.697900</td>\n",
              "      <td>0</td>\n",
              "      <td>1</td>\n",
              "      <td>person_2</td>\n",
              "    </tr>\n",
              "    <tr>\n",
              "      <th>2</th>\n",
              "      <td>114.754289</td>\n",
              "      <td>85.533286</td>\n",
              "      <td>0</td>\n",
              "      <td>1</td>\n",
              "      <td>person_2</td>\n",
              "    </tr>\n",
              "    <tr>\n",
              "      <th>3</th>\n",
              "      <td>102.952006</td>\n",
              "      <td>76.521870</td>\n",
              "      <td>0</td>\n",
              "      <td>1</td>\n",
              "      <td>person_2</td>\n",
              "    </tr>\n",
              "    <tr>\n",
              "      <th>4</th>\n",
              "      <td>88.086883</td>\n",
              "      <td>70.634333</td>\n",
              "      <td>0</td>\n",
              "      <td>1</td>\n",
              "      <td>person_2</td>\n",
              "    </tr>\n",
              "  </tbody>\n",
              "</table>\n",
              "</div>\n",
              "      <button class=\"colab-df-convert\" onclick=\"convertToInteractive('df-e823fc32-723e-489a-b6b0-90529f37cd66')\"\n",
              "              title=\"Convert this dataframe to an interactive table.\"\n",
              "              style=\"display:none;\">\n",
              "        \n",
              "  <svg xmlns=\"http://www.w3.org/2000/svg\" height=\"24px\"viewBox=\"0 0 24 24\"\n",
              "       width=\"24px\">\n",
              "    <path d=\"M0 0h24v24H0V0z\" fill=\"none\"/>\n",
              "    <path d=\"M18.56 5.44l.94 2.06.94-2.06 2.06-.94-2.06-.94-.94-2.06-.94 2.06-2.06.94zm-11 1L8.5 8.5l.94-2.06 2.06-.94-2.06-.94L8.5 2.5l-.94 2.06-2.06.94zm10 10l.94 2.06.94-2.06 2.06-.94-2.06-.94-.94-2.06-.94 2.06-2.06.94z\"/><path d=\"M17.41 7.96l-1.37-1.37c-.4-.4-.92-.59-1.43-.59-.52 0-1.04.2-1.43.59L10.3 9.45l-7.72 7.72c-.78.78-.78 2.05 0 2.83L4 21.41c.39.39.9.59 1.41.59.51 0 1.02-.2 1.41-.59l7.78-7.78 2.81-2.81c.8-.78.8-2.07 0-2.86zM5.41 20L4 18.59l7.72-7.72 1.47 1.35L5.41 20z\"/>\n",
              "  </svg>\n",
              "      </button>\n",
              "      \n",
              "  <style>\n",
              "    .colab-df-container {\n",
              "      display:flex;\n",
              "      flex-wrap:wrap;\n",
              "      gap: 12px;\n",
              "    }\n",
              "\n",
              "    .colab-df-convert {\n",
              "      background-color: #E8F0FE;\n",
              "      border: none;\n",
              "      border-radius: 50%;\n",
              "      cursor: pointer;\n",
              "      display: none;\n",
              "      fill: #1967D2;\n",
              "      height: 32px;\n",
              "      padding: 0 0 0 0;\n",
              "      width: 32px;\n",
              "    }\n",
              "\n",
              "    .colab-df-convert:hover {\n",
              "      background-color: #E2EBFA;\n",
              "      box-shadow: 0px 1px 2px rgba(60, 64, 67, 0.3), 0px 1px 3px 1px rgba(60, 64, 67, 0.15);\n",
              "      fill: #174EA6;\n",
              "    }\n",
              "\n",
              "    [theme=dark] .colab-df-convert {\n",
              "      background-color: #3B4455;\n",
              "      fill: #D2E3FC;\n",
              "    }\n",
              "\n",
              "    [theme=dark] .colab-df-convert:hover {\n",
              "      background-color: #434B5C;\n",
              "      box-shadow: 0px 1px 3px 1px rgba(0, 0, 0, 0.15);\n",
              "      filter: drop-shadow(0px 1px 2px rgba(0, 0, 0, 0.3));\n",
              "      fill: #FFFFFF;\n",
              "    }\n",
              "  </style>\n",
              "\n",
              "      <script>\n",
              "        const buttonEl =\n",
              "          document.querySelector('#df-e823fc32-723e-489a-b6b0-90529f37cd66 button.colab-df-convert');\n",
              "        buttonEl.style.display =\n",
              "          google.colab.kernel.accessAllowed ? 'block' : 'none';\n",
              "\n",
              "        async function convertToInteractive(key) {\n",
              "          const element = document.querySelector('#df-e823fc32-723e-489a-b6b0-90529f37cd66');\n",
              "          const dataTable =\n",
              "            await google.colab.kernel.invokeFunction('convertToInteractive',\n",
              "                                                     [key], {});\n",
              "          if (!dataTable) return;\n",
              "\n",
              "          const docLinkHtml = 'Like what you see? Visit the ' +\n",
              "            '<a target=\"_blank\" href=https://colab.research.google.com/notebooks/data_table.ipynb>data table notebook</a>'\n",
              "            + ' to learn more about interactive tables.';\n",
              "          element.innerHTML = '';\n",
              "          dataTable['output_type'] = 'display_data';\n",
              "          await google.colab.output.renderOutput(dataTable, element);\n",
              "          const docLink = document.createElement('div');\n",
              "          docLink.innerHTML = docLinkHtml;\n",
              "          element.appendChild(docLink);\n",
              "        }\n",
              "      </script>\n",
              "    </div>\n",
              "  </div>\n",
              "  "
            ]
          },
          "metadata": {},
          "execution_count": 25
        }
      ]
    },
    {
      "cell_type": "code",
      "source": [
        "#Concatenation data\n",
        "data_frame=pd.concat([data_frame_2,data_frame_1])"
      ],
      "metadata": {
        "id": "rQHYtvzT-joF"
      },
      "execution_count": 26,
      "outputs": []
    },
    {
      "cell_type": "code",
      "source": [
        "data_frame=shuffle(data_frame)\n",
        "data_frame.reset_index(inplace=True,drop=True)"
      ],
      "metadata": {
        "id": "35ZzSW0T_BY8"
      },
      "execution_count": 32,
      "outputs": []
    },
    {
      "cell_type": "code",
      "source": [
        "data_frame"
      ],
      "metadata": {
        "colab": {
          "base_uri": "https://localhost:8080/",
          "height": 424
        },
        "id": "Ak4oKHGHACKv",
        "outputId": "6eca8e4f-8417-401f-badf-2f5cd16d6233"
      },
      "execution_count": 33,
      "outputs": [
        {
          "output_type": "execute_result",
          "data": {
            "text/plain": [
              "             x1         x2  y1  y2     label\n",
              "0     99.035475  61.308932   0   1  person_2\n",
              "1    178.903910  54.111282   1   0  person_1\n",
              "2    176.194428  55.349949   1   0  person_1\n",
              "3    187.135360  41.844783   1   0  person_1\n",
              "4     98.765489  89.982119   0   1  person_2\n",
              "..          ...        ...  ..  ..       ...\n",
              "193   93.102092  87.322671   0   1  person_2\n",
              "194  114.337293  74.217038   0   1  person_2\n",
              "195  179.060205  39.668867   1   0  person_1\n",
              "196  181.210588  46.535163   1   0  person_1\n",
              "197  170.505309  61.899791   1   0  person_1\n",
              "\n",
              "[198 rows x 5 columns]"
            ],
            "text/html": [
              "\n",
              "  <div id=\"df-fdf7f8b0-b9b6-401b-9ca3-99add2f84346\">\n",
              "    <div class=\"colab-df-container\">\n",
              "      <div>\n",
              "<style scoped>\n",
              "    .dataframe tbody tr th:only-of-type {\n",
              "        vertical-align: middle;\n",
              "    }\n",
              "\n",
              "    .dataframe tbody tr th {\n",
              "        vertical-align: top;\n",
              "    }\n",
              "\n",
              "    .dataframe thead th {\n",
              "        text-align: right;\n",
              "    }\n",
              "</style>\n",
              "<table border=\"1\" class=\"dataframe\">\n",
              "  <thead>\n",
              "    <tr style=\"text-align: right;\">\n",
              "      <th></th>\n",
              "      <th>x1</th>\n",
              "      <th>x2</th>\n",
              "      <th>y1</th>\n",
              "      <th>y2</th>\n",
              "      <th>label</th>\n",
              "    </tr>\n",
              "  </thead>\n",
              "  <tbody>\n",
              "    <tr>\n",
              "      <th>0</th>\n",
              "      <td>99.035475</td>\n",
              "      <td>61.308932</td>\n",
              "      <td>0</td>\n",
              "      <td>1</td>\n",
              "      <td>person_2</td>\n",
              "    </tr>\n",
              "    <tr>\n",
              "      <th>1</th>\n",
              "      <td>178.903910</td>\n",
              "      <td>54.111282</td>\n",
              "      <td>1</td>\n",
              "      <td>0</td>\n",
              "      <td>person_1</td>\n",
              "    </tr>\n",
              "    <tr>\n",
              "      <th>2</th>\n",
              "      <td>176.194428</td>\n",
              "      <td>55.349949</td>\n",
              "      <td>1</td>\n",
              "      <td>0</td>\n",
              "      <td>person_1</td>\n",
              "    </tr>\n",
              "    <tr>\n",
              "      <th>3</th>\n",
              "      <td>187.135360</td>\n",
              "      <td>41.844783</td>\n",
              "      <td>1</td>\n",
              "      <td>0</td>\n",
              "      <td>person_1</td>\n",
              "    </tr>\n",
              "    <tr>\n",
              "      <th>4</th>\n",
              "      <td>98.765489</td>\n",
              "      <td>89.982119</td>\n",
              "      <td>0</td>\n",
              "      <td>1</td>\n",
              "      <td>person_2</td>\n",
              "    </tr>\n",
              "    <tr>\n",
              "      <th>...</th>\n",
              "      <td>...</td>\n",
              "      <td>...</td>\n",
              "      <td>...</td>\n",
              "      <td>...</td>\n",
              "      <td>...</td>\n",
              "    </tr>\n",
              "    <tr>\n",
              "      <th>193</th>\n",
              "      <td>93.102092</td>\n",
              "      <td>87.322671</td>\n",
              "      <td>0</td>\n",
              "      <td>1</td>\n",
              "      <td>person_2</td>\n",
              "    </tr>\n",
              "    <tr>\n",
              "      <th>194</th>\n",
              "      <td>114.337293</td>\n",
              "      <td>74.217038</td>\n",
              "      <td>0</td>\n",
              "      <td>1</td>\n",
              "      <td>person_2</td>\n",
              "    </tr>\n",
              "    <tr>\n",
              "      <th>195</th>\n",
              "      <td>179.060205</td>\n",
              "      <td>39.668867</td>\n",
              "      <td>1</td>\n",
              "      <td>0</td>\n",
              "      <td>person_1</td>\n",
              "    </tr>\n",
              "    <tr>\n",
              "      <th>196</th>\n",
              "      <td>181.210588</td>\n",
              "      <td>46.535163</td>\n",
              "      <td>1</td>\n",
              "      <td>0</td>\n",
              "      <td>person_1</td>\n",
              "    </tr>\n",
              "    <tr>\n",
              "      <th>197</th>\n",
              "      <td>170.505309</td>\n",
              "      <td>61.899791</td>\n",
              "      <td>1</td>\n",
              "      <td>0</td>\n",
              "      <td>person_1</td>\n",
              "    </tr>\n",
              "  </tbody>\n",
              "</table>\n",
              "<p>198 rows × 5 columns</p>\n",
              "</div>\n",
              "      <button class=\"colab-df-convert\" onclick=\"convertToInteractive('df-fdf7f8b0-b9b6-401b-9ca3-99add2f84346')\"\n",
              "              title=\"Convert this dataframe to an interactive table.\"\n",
              "              style=\"display:none;\">\n",
              "        \n",
              "  <svg xmlns=\"http://www.w3.org/2000/svg\" height=\"24px\"viewBox=\"0 0 24 24\"\n",
              "       width=\"24px\">\n",
              "    <path d=\"M0 0h24v24H0V0z\" fill=\"none\"/>\n",
              "    <path d=\"M18.56 5.44l.94 2.06.94-2.06 2.06-.94-2.06-.94-.94-2.06-.94 2.06-2.06.94zm-11 1L8.5 8.5l.94-2.06 2.06-.94-2.06-.94L8.5 2.5l-.94 2.06-2.06.94zm10 10l.94 2.06.94-2.06 2.06-.94-2.06-.94-.94-2.06-.94 2.06-2.06.94z\"/><path d=\"M17.41 7.96l-1.37-1.37c-.4-.4-.92-.59-1.43-.59-.52 0-1.04.2-1.43.59L10.3 9.45l-7.72 7.72c-.78.78-.78 2.05 0 2.83L4 21.41c.39.39.9.59 1.41.59.51 0 1.02-.2 1.41-.59l7.78-7.78 2.81-2.81c.8-.78.8-2.07 0-2.86zM5.41 20L4 18.59l7.72-7.72 1.47 1.35L5.41 20z\"/>\n",
              "  </svg>\n",
              "      </button>\n",
              "      \n",
              "  <style>\n",
              "    .colab-df-container {\n",
              "      display:flex;\n",
              "      flex-wrap:wrap;\n",
              "      gap: 12px;\n",
              "    }\n",
              "\n",
              "    .colab-df-convert {\n",
              "      background-color: #E8F0FE;\n",
              "      border: none;\n",
              "      border-radius: 50%;\n",
              "      cursor: pointer;\n",
              "      display: none;\n",
              "      fill: #1967D2;\n",
              "      height: 32px;\n",
              "      padding: 0 0 0 0;\n",
              "      width: 32px;\n",
              "    }\n",
              "\n",
              "    .colab-df-convert:hover {\n",
              "      background-color: #E2EBFA;\n",
              "      box-shadow: 0px 1px 2px rgba(60, 64, 67, 0.3), 0px 1px 3px 1px rgba(60, 64, 67, 0.15);\n",
              "      fill: #174EA6;\n",
              "    }\n",
              "\n",
              "    [theme=dark] .colab-df-convert {\n",
              "      background-color: #3B4455;\n",
              "      fill: #D2E3FC;\n",
              "    }\n",
              "\n",
              "    [theme=dark] .colab-df-convert:hover {\n",
              "      background-color: #434B5C;\n",
              "      box-shadow: 0px 1px 3px 1px rgba(0, 0, 0, 0.15);\n",
              "      filter: drop-shadow(0px 1px 2px rgba(0, 0, 0, 0.3));\n",
              "      fill: #FFFFFF;\n",
              "    }\n",
              "  </style>\n",
              "\n",
              "      <script>\n",
              "        const buttonEl =\n",
              "          document.querySelector('#df-fdf7f8b0-b9b6-401b-9ca3-99add2f84346 button.colab-df-convert');\n",
              "        buttonEl.style.display =\n",
              "          google.colab.kernel.accessAllowed ? 'block' : 'none';\n",
              "\n",
              "        async function convertToInteractive(key) {\n",
              "          const element = document.querySelector('#df-fdf7f8b0-b9b6-401b-9ca3-99add2f84346');\n",
              "          const dataTable =\n",
              "            await google.colab.kernel.invokeFunction('convertToInteractive',\n",
              "                                                     [key], {});\n",
              "          if (!dataTable) return;\n",
              "\n",
              "          const docLinkHtml = 'Like what you see? Visit the ' +\n",
              "            '<a target=\"_blank\" href=https://colab.research.google.com/notebooks/data_table.ipynb>data table notebook</a>'\n",
              "            + ' to learn more about interactive tables.';\n",
              "          element.innerHTML = '';\n",
              "          dataTable['output_type'] = 'display_data';\n",
              "          await google.colab.output.renderOutput(dataTable, element);\n",
              "          const docLink = document.createElement('div');\n",
              "          docLink.innerHTML = docLinkHtml;\n",
              "          element.appendChild(docLink);\n",
              "        }\n",
              "      </script>\n",
              "    </div>\n",
              "  </div>\n",
              "  "
            ]
          },
          "metadata": {},
          "execution_count": 33
        }
      ]
    },
    {
      "cell_type": "code",
      "source": [
        "plt.scatter(data_frame_1.x1,data_frame_1.x2)\n",
        "plt.scatter(data_frame_2.x1,data_frame_2.x2)\n",
        "plt.show()"
      ],
      "metadata": {
        "colab": {
          "base_uri": "https://localhost:8080/",
          "height": 265
        },
        "id": "zWswpxjXA6QT",
        "outputId": "ada6b618-6550-4365-887b-801174bce505"
      },
      "execution_count": 36,
      "outputs": [
        {
          "output_type": "display_data",
          "data": {
            "text/plain": [
              "<Figure size 432x288 with 1 Axes>"
            ],
            "image/png": "[encoded data removed]"
          },
          "metadata": {
            "needs_background": "light"
          }
        }
      ]
    },
    {
      "cell_type": "code",
      "source": [
        "#Neural Network\n",
        "#Matrix Weight\n",
        "\n",
        "w11=np.random.uniform(-0.05,0.05)\n",
        "w12=np.random.uniform(-0.05,0.05)\n",
        "w21=np.random.uniform(-0.05,0.05)\n",
        "w22=np.random.uniform(-0.05,0.05)"
      ],
      "metadata": {
        "id": "JX6fZuRACjrz"
      },
      "execution_count": 58,
      "outputs": []
    },
    {
      "cell_type": "code",
      "source": [
        "W=np.array([[w11,w12],[w21,w22]])"
      ],
      "metadata": {
        "id": "sHxsTxgUCvdg"
      },
      "execution_count": 59,
      "outputs": []
    },
    {
      "cell_type": "code",
      "source": [
        "print(W)"
      ],
      "metadata": {
        "colab": {
          "base_uri": "https://localhost:8080/"
        },
        "id": "XDlTmqq-C4TK",
        "outputId": "0e7053b0-922a-479c-c2c3-38a7254550d1"
      },
      "execution_count": 60,
      "outputs": [
        {
          "output_type": "stream",
          "name": "stdout",
          "text": [
            "[[ 0.02580387 -0.01141254]\n",
            " [ 0.0331433   0.01075124]]\n"
          ]
        }
      ]
    },
    {
      "cell_type": "code",
      "source": [
        "def sigmoid(x):\n",
        "  return 1/(1+np.exp(-x))"
      ],
      "metadata": {
        "id": "4KrSgpfGFeBh"
      },
      "execution_count": 61,
      "outputs": []
    },
    {
      "cell_type": "code",
      "source": [
        "learning_rate=0.2\n",
        "\n",
        "for index,baris in data_frame.iterrows():\n",
        "  W_lama=W\n",
        "  input=np.array([[baris.x1],[baris.x2]])\n",
        "  output=np.dot(W,input)\n",
        "  output_learn=sigmoid(output)\n",
        "  output_actual=np.array([[baris.y1],[baris.y2]])\n",
        "  error=output_actual-output_learn\n",
        "  delta_w=np.dot(learning_rate*error*output_learn*(1-output_learn),input.T)\n",
        "  W=W_lama+delta_w\n",
        "  t=np.argmax(output_learn)\n",
        "  a=np.argmax(output_actual)\n",
        "\n",
        "  print(f\"index={index},tebakan={t},jawaban={a}\")"
      ],
      "metadata": {
        "colab": {
          "base_uri": "https://localhost:8080/"
        },
        "id": "O_S8bHJAC-pO",
        "outputId": "5b599586-1675-4aac-97cb-ca35f90c8da9"
      },
      "execution_count": 63,
      "outputs": [
        {
          "output_type": "stream",
          "name": "stdout",
          "text": [
            "index=0,tebakan=1,jawaban=1\n",
            "index=1,tebakan=1,jawaban=0\n",
            "index=2,tebakan=1,jawaban=0\n",
            "index=3,tebakan=1,jawaban=0\n",
            "index=4,tebakan=1,jawaban=1\n",
            "index=5,tebakan=1,jawaban=1\n",
            "index=6,tebakan=1,jawaban=0\n",
            "index=7,tebakan=1,jawaban=0\n",
            "index=8,tebakan=1,jawaban=1\n",
            "index=9,tebakan=1,jawaban=0\n",
            "index=10,tebakan=1,jawaban=0\n",
            "index=11,tebakan=1,jawaban=1\n",
            "index=12,tebakan=1,jawaban=0\n",
            "index=13,tebakan=1,jawaban=1\n",
            "index=14,tebakan=1,jawaban=1\n",
            "index=15,tebakan=1,jawaban=1\n",
            "index=16,tebakan=1,jawaban=1\n",
            "index=17,tebakan=1,jawaban=1\n",
            "index=18,tebakan=1,jawaban=1\n",
            "index=19,tebakan=1,jawaban=0\n",
            "index=20,tebakan=1,jawaban=1\n",
            "index=21,tebakan=1,jawaban=1\n",
            "index=22,tebakan=1,jawaban=1\n",
            "index=23,tebakan=1,jawaban=1\n",
            "index=24,tebakan=1,jawaban=0\n",
            "index=25,tebakan=1,jawaban=1\n",
            "index=26,tebakan=1,jawaban=0\n",
            "index=27,tebakan=1,jawaban=1\n",
            "index=28,tebakan=1,jawaban=1\n",
            "index=29,tebakan=1,jawaban=0\n",
            "index=30,tebakan=1,jawaban=1\n",
            "index=31,tebakan=1,jawaban=1\n",
            "index=32,tebakan=1,jawaban=1\n",
            "index=33,tebakan=1,jawaban=1\n",
            "index=34,tebakan=1,jawaban=0\n",
            "index=35,tebakan=1,jawaban=0\n",
            "index=36,tebakan=1,jawaban=0\n",
            "index=37,tebakan=1,jawaban=0\n",
            "index=38,tebakan=1,jawaban=0\n",
            "index=39,tebakan=1,jawaban=1\n",
            "index=40,tebakan=1,jawaban=0\n",
            "index=41,tebakan=1,jawaban=0\n",
            "index=42,tebakan=1,jawaban=0\n",
            "index=43,tebakan=1,jawaban=1\n",
            "index=44,tebakan=1,jawaban=1\n",
            "index=45,tebakan=1,jawaban=0\n",
            "index=46,tebakan=1,jawaban=0\n",
            "index=47,tebakan=1,jawaban=0\n",
            "index=48,tebakan=1,jawaban=0\n",
            "index=49,tebakan=1,jawaban=0\n",
            "index=50,tebakan=1,jawaban=1\n",
            "index=51,tebakan=1,jawaban=0\n",
            "index=52,tebakan=1,jawaban=0\n",
            "index=53,tebakan=1,jawaban=1\n",
            "index=54,tebakan=1,jawaban=0\n",
            "index=55,tebakan=1,jawaban=0\n",
            "index=56,tebakan=1,jawaban=1\n",
            "index=57,tebakan=1,jawaban=0\n",
            "index=58,tebakan=1,jawaban=0\n",
            "index=59,tebakan=1,jawaban=1\n",
            "index=60,tebakan=1,jawaban=1\n",
            "index=61,tebakan=1,jawaban=0\n",
            "index=62,tebakan=1,jawaban=1\n",
            "index=63,tebakan=1,jawaban=1\n",
            "index=64,tebakan=1,jawaban=0\n",
            "index=65,tebakan=1,jawaban=1\n",
            "index=66,tebakan=1,jawaban=0\n",
            "index=67,tebakan=1,jawaban=1\n",
            "index=68,tebakan=1,jawaban=0\n",
            "index=69,tebakan=1,jawaban=1\n",
            "index=70,tebakan=1,jawaban=1\n",
            "index=71,tebakan=1,jawaban=0\n",
            "index=72,tebakan=1,jawaban=1\n",
            "index=73,tebakan=1,jawaban=0\n",
            "index=74,tebakan=1,jawaban=0\n",
            "index=75,tebakan=1,jawaban=1\n",
            "index=76,tebakan=1,jawaban=1\n",
            "index=77,tebakan=1,jawaban=1\n",
            "index=78,tebakan=1,jawaban=0\n",
            "index=79,tebakan=1,jawaban=1\n",
            "index=80,tebakan=1,jawaban=0\n",
            "index=81,tebakan=1,jawaban=1\n",
            "index=82,tebakan=1,jawaban=1\n",
            "index=83,tebakan=1,jawaban=0\n",
            "index=84,tebakan=1,jawaban=0\n",
            "index=85,tebakan=1,jawaban=0\n",
            "index=86,tebakan=1,jawaban=0\n",
            "index=87,tebakan=1,jawaban=1\n",
            "index=88,tebakan=1,jawaban=1\n",
            "index=89,tebakan=1,jawaban=1\n",
            "index=90,tebakan=1,jawaban=0\n",
            "index=91,tebakan=1,jawaban=1\n",
            "index=92,tebakan=1,jawaban=0\n",
            "index=93,tebakan=1,jawaban=1\n",
            "index=94,tebakan=1,jawaban=0\n",
            "index=95,tebakan=1,jawaban=1\n",
            "index=96,tebakan=1,jawaban=0\n",
            "index=97,tebakan=1,jawaban=1\n",
            "index=98,tebakan=1,jawaban=0\n",
            "index=99,tebakan=1,jawaban=0\n",
            "index=100,tebakan=1,jawaban=0\n",
            "index=101,tebakan=1,jawaban=0\n",
            "index=102,tebakan=1,jawaban=1\n",
            "index=103,tebakan=1,jawaban=1\n",
            "index=104,tebakan=1,jawaban=1\n",
            "index=105,tebakan=1,jawaban=1\n",
            "index=106,tebakan=1,jawaban=1\n",
            "index=107,tebakan=1,jawaban=0\n",
            "index=108,tebakan=1,jawaban=1\n",
            "index=109,tebakan=1,jawaban=1\n",
            "index=110,tebakan=1,jawaban=0\n",
            "index=111,tebakan=1,jawaban=0\n",
            "index=112,tebakan=1,jawaban=0\n",
            "index=113,tebakan=1,jawaban=1\n",
            "index=114,tebakan=1,jawaban=0\n",
            "index=115,tebakan=1,jawaban=1\n",
            "index=116,tebakan=1,jawaban=0\n",
            "index=117,tebakan=1,jawaban=1\n",
            "index=118,tebakan=1,jawaban=0\n",
            "index=119,tebakan=1,jawaban=1\n",
            "index=120,tebakan=1,jawaban=0\n",
            "index=121,tebakan=1,jawaban=1\n",
            "index=122,tebakan=1,jawaban=1\n",
            "index=123,tebakan=1,jawaban=0\n",
            "index=124,tebakan=1,jawaban=1\n",
            "index=125,tebakan=1,jawaban=1\n",
            "index=126,tebakan=1,jawaban=1\n",
            "index=127,tebakan=1,jawaban=1\n",
            "index=128,tebakan=1,jawaban=0\n",
            "index=129,tebakan=1,jawaban=1\n",
            "index=130,tebakan=1,jawaban=1\n",
            "index=131,tebakan=1,jawaban=1\n",
            "index=132,tebakan=1,jawaban=0\n",
            "index=133,tebakan=1,jawaban=1\n",
            "index=134,tebakan=1,jawaban=1\n",
            "index=135,tebakan=1,jawaban=0\n",
            "index=136,tebakan=1,jawaban=1\n",
            "index=137,tebakan=1,jawaban=0\n",
            "index=138,tebakan=1,jawaban=0\n",
            "index=139,tebakan=1,jawaban=1\n",
            "index=140,tebakan=1,jawaban=1\n",
            "index=141,tebakan=1,jawaban=1\n",
            "index=142,tebakan=1,jawaban=1\n",
            "index=143,tebakan=1,jawaban=1\n",
            "index=144,tebakan=1,jawaban=0\n",
            "index=145,tebakan=1,jawaban=1\n",
            "index=146,tebakan=1,jawaban=0\n",
            "index=147,tebakan=1,jawaban=1\n",
            "index=148,tebakan=1,jawaban=0\n",
            "index=149,tebakan=1,jawaban=1\n",
            "index=150,tebakan=1,jawaban=1\n",
            "index=151,tebakan=1,jawaban=1\n",
            "index=152,tebakan=1,jawaban=0\n",
            "index=153,tebakan=1,jawaban=1\n",
            "index=154,tebakan=1,jawaban=0\n",
            "index=155,tebakan=1,jawaban=0\n",
            "index=156,tebakan=1,jawaban=1\n",
            "index=157,tebakan=1,jawaban=0\n",
            "index=158,tebakan=1,jawaban=1\n",
            "index=159,tebakan=1,jawaban=0\n",
            "index=160,tebakan=1,jawaban=0\n",
            "index=161,tebakan=1,jawaban=0\n",
            "index=162,tebakan=1,jawaban=0\n",
            "index=163,tebakan=1,jawaban=1\n",
            "index=164,tebakan=1,jawaban=0\n",
            "index=165,tebakan=1,jawaban=0\n",
            "index=166,tebakan=1,jawaban=1\n",
            "index=167,tebakan=1,jawaban=0\n",
            "index=168,tebakan=1,jawaban=1\n",
            "index=169,tebakan=1,jawaban=1\n",
            "index=170,tebakan=1,jawaban=1\n",
            "index=171,tebakan=1,jawaban=1\n",
            "index=172,tebakan=1,jawaban=1\n",
            "index=173,tebakan=1,jawaban=0\n",
            "index=174,tebakan=1,jawaban=0\n",
            "index=175,tebakan=1,jawaban=0\n",
            "index=176,tebakan=1,jawaban=1\n",
            "index=177,tebakan=1,jawaban=0\n",
            "index=178,tebakan=1,jawaban=0\n",
            "index=179,tebakan=1,jawaban=0\n",
            "index=180,tebakan=1,jawaban=1\n",
            "index=181,tebakan=1,jawaban=0\n",
            "index=182,tebakan=1,jawaban=1\n",
            "index=183,tebakan=1,jawaban=0\n",
            "index=184,tebakan=1,jawaban=0\n",
            "index=185,tebakan=1,jawaban=0\n",
            "index=186,tebakan=1,jawaban=0\n",
            "index=187,tebakan=1,jawaban=0\n",
            "index=188,tebakan=1,jawaban=0\n",
            "index=189,tebakan=1,jawaban=0\n",
            "index=190,tebakan=1,jawaban=0\n",
            "index=191,tebakan=1,jawaban=0\n",
            "index=192,tebakan=1,jawaban=1\n",
            "index=193,tebakan=1,jawaban=1\n",
            "index=194,tebakan=1,jawaban=1\n",
            "index=195,tebakan=1,jawaban=0\n",
            "index=196,tebakan=1,jawaban=0\n",
            "index=197,tebakan=1,jawaban=0\n"
          ]
        }
      ]
    }
  ]
}